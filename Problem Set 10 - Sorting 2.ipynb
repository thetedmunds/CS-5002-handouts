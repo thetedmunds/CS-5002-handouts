{
    "metadata":{
        "orig_nbformat":4,
        "kernelspec":{
            "name":"python3",
            "display_name":"Python 3 (ipykernel)",
            "language":"python"
        },
        "language_info":{
            "name":"python",
            "version":"3.7.10",
            "mimetype":"text/x-python",
            "codemirror_mode":{
                "name":"ipython",
                "version":3
            },
            "pygments_lexer":"ipython3",
            "nbconvert_exporter":"python",
            "file_extension":".py"
        }
    },
    "nbformat_minor":4,
    "nbformat":4,
    "cells":[
        {
            "cell_type":"code",
            "source":"# To enable cost analysis of our sorting, we will have global counters\n# for the number of swap operations performed, and the number of\n# comparisons performed.\n#\n# Call resetCounts() before performing a sort\ndef resetCounts():\n    global swapCount\n    swapCount = 0\n    global compareCount\n    compareCount = 0\n    \n# Call reportCounts() after performing a sort to see what the cost was    \ndef reportCounts():\n    global swapCount\n    global compareCount\n    return str(swapCount) + \" swaps, \"+ str(compareCount) + \" compares\"\n\n# Call returnCounts() after performing a sort to get the cost\ndef returnCounts():\n    global swapCount\n    global compareCount\n    return [swapCount, compareCount]\n\n# This function swaps the two items at locations i and j in array A.\n# (it also logs the usage for later reporting)\ndef swap(A, i, j):\n    # Uncomment to see details of swaps:\n    #print(\"swapping \" + str(A[i]) + \" with \" + str(A[j]))\n    temp = A[i]\n    A[i] = A[j]\n    A[j] = temp\n    global swapCount\n    swapCount += 1\n\n# This function compares the two items at locations i and j in array A.\n# It returns true if A[i] is greater than A[j] (the items must be\n# comparable with the > operator).\n# (The function also logs the usage for later reporting)\ndef compare(A, i, j):\n    # Uncomment to see details of comparisons:\n    #print(\"comparing \" + str(A[i]) + \" with \" + str(A[j]))\n    global compareCount\n    compareCount += 1\n    return A[i] > A[j]",
            "metadata":{
                "trusted":true
            },
            "execution_count":null,
            "outputs":[
                
            ]
        },
        {
            "cell_type":"code",
            "source":"import math\nimport random\n\n# Sort the items from i to j (inclusive) in A\ndef quickSort(A, i, j, method, verbose):\n    # If there are fewer than 2 items to sort, then the items are\n    # de-facto sorted\n    if j<=i: return\n\n    # Select the pivot item\n    pivotIndex = 0\n    if method == \"a\":\n        # Use item i as the pivot\n        pivotIndex = i;\n    elif method == \"b\":\n        # Use the midpoint as the pivot\n        pivotIndex = i + math.floor((j-i)/2)\n    elif method == \"c\":\n        # Use a randomly selected item as the pivot\n        pivotIndex = random.randint(i,j)\n    \n    if pivotIndex != i: swap(A, i, pivotIndex)\n    \n    # Partition the items from i+1 to j into two sets:\n    # items less than or equal to the pivot, and\n    # items greater than the pivot.\n    \n    # During processing, the array will look like this:\n    # 1: | pivot | <=pivot || unprocessed | >pivot |\n    # or this:\n    # 2: | pivot | <=pivot | g | unprocessed || >pivot |\n    # or this:\n    # 3: | pivot | <=pivot | g | unprocessed | l | >pivot |\n    #\n    # Where pivot is the single pivot,\n    # <=pivot is the items that have been found to be <= the pivot,\n    # g is a single item that has been found to be greater than the pivot,\n    # unprocessed is items that have not yet been compared to the pivot,\n    # l is a single item that has been found to be less than the pivot,\n    # >pivot is the items that have been found to be > the pivot\n    #\n    # We start in state 1 (with <=pivot and >pivot empty), and advance by\n    # moving the || separator through the unprocessed items from the left\n    # until we encounter an item that is > than the pivot.\n    # We then move to state 2, and advance by moving the || separator\n    # through the unprocessed items from the right until we encounter\n    # an item that is <= the pivot.\n    # We are then in state 3.  We swap g and l so they are both in the\n    # correct partitions, and return to state 1.\n    #\n    # (We stop when unprocessed is empty.)\n\n    # Keep track of the left and right ends of the unprocessed region\n    left = i+1\n    right = j\n    \n    while left <= right:\n        # We're in state 1.  Advance through the unprocessed region from the\n        # left until we find an item > than pivot\n        while left <= right and not(compare(A, left, i)):\n            left += 1\n        # left is now the index of g (an item that is > pivot).\n        # (Or left > right, meaning that we have finished the partition - \n        # either way, left is one spot to the right of the last <=pivot item\n        # found so far).\n            \n        # We're in state 2.  Advance through the unprocessed region from the\n        # right until we find an item <= pivot\n        while left < right and compare(A, right, i):\n            right -= 1\n        # If left is equal to right, then we have finished the partition).\n        if left == right: right -= 1\n        # right is now the index of l (or right is < left - either way,\n        # right is one spot to the left of the first >pivot item found so far).\n        \n        # We're in state 3. (Or we're done)\n        if left < right:\n            swap(A, left, right)\n            left += 1\n            right -= 1\n        \n        # Go back to state 1\n        \n    # Partition complete. left is the index above the last item that is <= pivot.\n    # Put the pivot in between the <=pivot and >pivot.\n    if left != i+1: swap(A, i, left-1)\n    \n    # Uncomment to print the intermediate results\n    if verbose: print(A)\n    \n    # The pivot is now in its final sorted position. So it's time to recurse!\n    # Sort everything to the left of the pivot.\n    quickSort(A, i, left-2, method, verbose)\n    # Sort everything to the right of the pivot.\n    quickSort(A, left, j, method, verbose)",
            "metadata":{
                "trusted":true
            },
            "execution_count":null,
            "outputs":[
                
            ]
        },
        {
            "cell_type":"code",
            "source":"# Example of quickSort in action:\nEg = list(range(1,10))\nrandom.Random(1).shuffle(Eg)\n\nresetCounts()\nprint(\"starting:\")\nprint(Eg)\nprint(\"\")\n\nquickSort(Eg, 0, len(Eg)-1, \"a\", True)\n\nprint(\"sorted:\")\nprint(Eg)\nreportCounts()",
            "metadata":{
                "trusted":true
            },
            "execution_count":null,
            "outputs":[
                
            ]
        },
        {
            "cell_type":"code",
            "source":"# A function to test the cost of the quickSort function by running it lots of times (reps).\n# Use the method (\"a\", \"b\", or \"c\").\n# Run quickSort on the array A, either keeping A the same every time, or\n# shuffling it randomly every time (according to shuffle).\n# Reports:\n# best (lowest) number of item-item comparisons\n# worst (highest) number of item-item comparisons\n# average (per sort) number of item-item comparisons\ndef quickSortTester(method, A, reps, shuffle):\n    best = float('inf')\n    worst = -1;\n    average = 0;\n    \n    for i in range(0, reps):\n        # Make a copy of A\n        Acopy = A.copy()\n        # Shuffle it if called for\n        if shuffle: random.shuffle(Acopy)\n        \n        # Run the sort\n        resetCounts()\n        quickSort(Acopy, 0, len(Acopy)-1, method, False)\n        \n        compares = returnCounts()[1]\n        if compares < best: best = compares\n        if compares > worst: worst = compares\n        average += compares/reps\n        \n    return [worst, best, average]",
            "metadata":{
                "trusted":true
            },
            "execution_count":null,
            "outputs":[
                
            ]
        },
        {
            "cell_type":"code",
            "source":"# Part (a):\n# Create an ordering of the integers from 1 to 7 that results\n# in the worst-case performance of quickSort (using method \"a\" - i.e., using\n# the first item in the list as the pivot).\n# You can write a function to do this if you want.  In the end, call the\n# list aWorstCase7.\naWorstCase7 = [3,0,1,8,7,2,5,4,6,9]\n\n# Also create an ordering of the integers from 1 to 15 that results\n# in the worst-case performance. You can write a function to do this\n# if you want.  In the end, call the list aWorstCase15\naWorstCase15 = [3,0,1,8,7,2,5,4,6,9]\n\n# Do the same for 1-31, 1-63, 1-127, and 1-255\naWorstCase31 = [3,0,1,8,7,2,5,4,6,9]\naWorstCase63 = [3,0,1,8,7,2,5,4,6,9]\naWorstCase127 = [3,0,1,8,7,2,5,4,6,9]\naWorstCase255 = [3,0,1,8,7,2,5,4,6,9]",
            "metadata":{
                "trusted":true
            },
            "execution_count":null,
            "outputs":[
                
            ]
        },
        {
            "cell_type":"code",
            "source":"# Test quickSort on the worst-case inputs\nresult = quickSortTester(\"a\", aWorstCase7, 1, False)\nprint(str(result[0]) + \" compares on aWorstCase7\")\nresult = quickSortTester(\"a\", aWorstCase15, 1, False)\nprint(str(result[0]) + \" compares on aWorstCase15\")\nresult = quickSortTester(\"a\", aWorstCase31, 1, False)\nprint(str(result[0]) + \" compares on aWorstCase31\")\nresult = quickSortTester(\"a\", aWorstCase63, 1, False)\nprint(str(result[0]) + \" compares on aWorstCase63\")\nresult = quickSortTester(\"a\", aWorstCase127, 1, False)\nprint(str(result[0]) + \" compares on aWorstCase127\")\nresult = quickSortTester(\"a\", aWorstCase255, 1, False)\nprint(str(result[0]) + \" compares on aWorstCase255\")",
            "metadata":{
                "trusted":true
            },
            "execution_count":null,
            "outputs":[
                
            ]
        },
        {
            "cell_type":"code",
            "source":"# Part (b): Choosing the middle item in the array to be the pivot should\n# help with the worst case.\nresult = quickSortTester(\"b\", aWorstCase7, 1, False)\nprint(str(result[0]) + \" compares on aWorstCase7\")\nresult = quickSortTester(\"b\", aWorstCase15, 1, False)\nprint(str(result[0]) + \" compares on aWorstCase15\")\nresult = quickSortTester(\"b\", aWorstCase31, 1, False)\nprint(str(result[0]) + \" compares on aWorstCase31\")\nresult = quickSortTester(\"b\", aWorstCase63, 1, False)\nprint(str(result[0]) + \" compares on aWorstCase63\")\nresult = quickSortTester(\"b\", aWorstCase127, 1, False)\nprint(str(result[0]) + \" compares on aWorstCase127\")\nresult = quickSortTester(\"b\", aWorstCase255, 1, False)\nprint(str(result[0]) + \" compares on aWorstCase255\")",
            "metadata":{
                "trusted":true
            },
            "execution_count":null,
            "outputs":[
                
            ]
        },
        {
            "cell_type":"code",
            "source":"# ... but it is still possible for quickSort to have just as bad a worst-case\n# when using the middle item as the pivot.\n# Create orderings of the integers from 1-7, 1-15, 1-31, 1-63, 1-127 and 1-255\n# that result in the worst-case performance of quickSort (using method \"b\" -\n# i.e., using the middle item in the list as the pivot).\n# You can write a function to do this if you want.  In the end, call the\n# lists bWorstCase7, bWorstCase15, ..., bWorstCase255.\nbWorstCase7= [3,0,1,8,7,2,5,4,6,9]\nbWorstCase15 = [3,0,1,8,7,2,5,4,6,9]\nbWorstCase31 = [3,0,1,8,7,2,5,4,6,9]\nbWorstCase63 = [3,0,1,8,7,2,5,4,6,9]\nbWorstCase127 = [3,0,1,8,7,2,5,4,6,9]\nbWorstCase255 = [3,0,1,8,7,2,5,4,6,9]\n",
            "metadata":{
                "trusted":true
            },
            "execution_count":null,
            "outputs":[
                
            ]
        },
        {
            "cell_type":"code",
            "source":"# Test quickSort on the b worst-case inputs\nresult = quickSortTester(\"b\", bWorstCase7, 1, False)\nprint(str(result[0]) + \" compares on bWorstCase7\")\nresult = quickSortTester(\"b\", bWorstCase15, 1, False)\nprint(str(result[0]) + \" compares on bWorstCase15\")\nresult = quickSortTester(\"b\", bWorstCase31, 1, False)\nprint(str(result[0]) + \" compares on bWorstCase31\")\nresult = quickSortTester(\"b\", bWorstCase63, 1, False)\nprint(str(result[0]) + \" compares on bWorstCase63\")\nresult = quickSortTester(\"b\", bWorstCase127, 1, False)\nprint(str(result[0]) + \" compares on bWorstCase127\")\nresult = quickSortTester(\"b\", bWorstCase255, 1, False)\nprint(str(result[0]) + \" compares on bWorstCase255\")",
            "metadata":{
                "trusted":true
            },
            "execution_count":null,
            "outputs":[
                
            ]
        },
        {
            "cell_type":"code",
            "source":"# Part (c): From parts (a) and (b), we can tell that any implementation of\n# Quick Sort will always have some worst-case input that will result in a\n# worst-case run time that is big-O worse than the worst-case performance of\n# Merge Sort.\n# But _randomly_ selecting the pivot from all available items helps make it\n# very unlikely that the algorithm will encounter that worst-case input\n# (or close-to-worst-case inputs).\n#\n# Let's see how randomized Quick Sort does on the worst-case inputs from\n# (a) and (b)\nresult = quickSortTester(\"c\", aWorstCase7, 5000, False)\nprint(\"aWorstCase7\")\nprint(\"Worst case: \" + str(result[0]) + \" compares\")\nprint(\"Best case: \" + str(result[1]) + \" compares\")\nprint(\"Average: \" + str(result[2]) + \" compares\")\nprint(\"\")\n\nresult = quickSortTester(\"c\", bWorstCase7, 5000, False)\nprint(\"bWorstCase7\")\nprint(\"Worst case: \" + str(result[0]) + \" compares\")\nprint(\"Best case: \" + str(result[1]) + \" compares\")\nprint(\"Average: \" + str(result[2]) + \" compares\")\nprint(\"\")",
            "metadata":{
                "trusted":true
            },
            "execution_count":null,
            "outputs":[
                
            ]
        },
        {
            "cell_type":"code",
            "source":"",
            "metadata":{
                
            },
            "execution_count":null,
            "outputs":[
                
            ]
        }
    ]
}
