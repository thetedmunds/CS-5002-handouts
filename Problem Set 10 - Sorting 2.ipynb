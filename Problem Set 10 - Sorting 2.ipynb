{
    "metadata":{
        "orig_nbformat":4,
        "kernelspec":{
            "name":"python3",
            "display_name":"Python 3 (ipykernel)",
            "language":"python"
        },
        "language_info":{
            "name":"python",
            "version":"3.7.10",
            "mimetype":"text/x-python",
            "codemirror_mode":{
                "name":"ipython",
                "version":3
            },
            "pygments_lexer":"ipython3",
            "nbconvert_exporter":"python",
            "file_extension":".py"
        }
    },
    "nbformat_minor":4,
    "nbformat":4,
    "cells":[
        {
            "cell_type":"code",
            "source":"# To enable cost analysis of our sorting, we will have global counters\n# for the number of swap operations performed, and the number of\n# comparisons performed.\n#\n# Call resetCounts() before performing a sort\ndef resetCounts():\n    global swapCount\n    swapCount = 0\n    global compareCount\n    compareCount = 0\n    \n# Call reportCounts() after performing a sort to see what the cost was    \ndef reportCounts():\n    global swapCount\n    global compareCount\n    return str(swapCount) + \" swaps, \"+ str(compareCount) + \" compares\"\n\n# This function swaps the two items at locations i and j in array A.\n# (it also logs the usage for later reporting)\ndef swap(A, i, j):\n    # Uncomment to see details of swaps:\n    #print(\"swapping \" + str(A[i]) + \" with \" + str(A[j]))\n    temp = A[i]\n    A[i] = A[j]\n    A[j] = temp\n    global swapCount\n    swapCount += 1\n\n# This function compares the two items at locations i and j in array A.\n# It returns true if A[i] is greater than A[j] (the items must be\n# comparable with the > operator).\n# (The function also logs the usage for later reporting)\ndef compare(A, i, j):\n    # Uncomment to see details of comparisons:\n    #print(\"comparing \" + str(A[i]) + \" with \" + str(A[j]))\n    global compareCount\n    compareCount += 1\n    return A[i] > A[j]",
            "metadata":{
                "trusted":true
            },
            "execution_count":8,
            "outputs":[
                
            ]
        },
        {
            "cell_type":"code",
            "source":"import math\nimport random\n\n# Sort the items from i to j (inclusive) in A\ndef quickSort(A, i, j, method):\n    # If there are fewer than 2 items to sort, then the items are\n    # de-facto sorted\n    if j<=i: return\n\n    # Select the pivot item\n    pivotIndex = 0\n    if method == \"a\":\n        # Use item i as the pivot\n        pivotIndex = i;\n    elif method == \"b\":\n        # Use the midpoint as the pivot\n        pivotIndex = i + math.floor((j-i)/2)\n    elif method == \"c\":\n        # Use a randomly selected item as the pivot\n        pivotIndex = random.randint(i,j)\n    \n    if pivotIndex != i: swap(A, i, pivotIndex)\n    \n    # Partition the items from i+1 to j into two sets:\n    # items less than or equal to the pivot, and\n    # items greater than the pivot.\n    \n    # During processing, the array will look like this:\n    # 1: | pivot | <=pivot || unprocessed | >pivot |\n    # or this:\n    # 2: | pivot | <=pivot | g | unprocessed || >pivot |\n    # or this:\n    # 3: | pivot | <=pivot | g | unprocessed | l | >pivot |\n    #\n    # Where pivot is the single pivot,\n    # <=pivot is the items that have been found to be <= the pivot,\n    # g is a single item that has been found to be greater than the pivot,\n    # unprocessed is items that have not yet been compared to the pivot,\n    # l is a single item that has been found to be less than the pivot,\n    # >pivot is the items that have been found to be > the pivot\n    #\n    # We start in state 1 (with <=pivot and >pivot empty), and advance by\n    # moving the || separator through the unprocessed items from the left\n    # until we encounter an item that is > than the pivot.\n    # We then move to state 2, and advance by moving the || separator\n    # through the unprocessed items from the right until we encounter\n    # an item that is <= the pivot.\n    # We are then in state 3.  We swap g and l so they are both in the\n    # correct partitions, and return to state 1.\n    #\n    # (We stop when unprocessed is empty.)\n\n    # Keep track of the left and right ends of the unprocessed region\n    left = i+1\n    right = j\n    \n    while left <= right:\n        # We're in state 1.  Advance through the unprocessed region from the\n        # left until we find an item > than pivot\n        while left <= right and not(compare(A, left, i)):\n            left += 1\n        # left is now the index of g (an item that is > pivot).\n        # (Or left > right, meaning that we have finished the partition - \n        # either way, left is one spot to the right of the last <=pivot item\n        # found so far).\n            \n        # We're in state 2.  Advance through the unprocessed region from the\n        # right until we find an item <= pivot\n        while left < right and compare(A, right, i):\n            right -= 1\n        # If left is equal to right, then we have finished the partition).\n        if left == right: right -= 1\n        # right is now the index of l (or right is < left - either way,\n        # right is one spot to the left of the first >pivot item found so far).\n        \n        # We're in state 3. (Or we're done)\n        if left < right:\n            swap(A, left, right)\n            left += 1\n            right -= 1\n        \n        # Go back to state 1\n        \n    # Partition complete. left is the index above the last item that is <= pivot.\n    # Put the pivot in between the <=pivot and >pivot.\n    if left != i+1: swap(A, i, left-1)\n    \n    # Uncomment to print the intermediate results\n    #print(A)\n    \n    # The pivot is now in its final sorted position. So it's time to recurse!\n    # Sort everything to the left of the pivot.\n    quickSort(A, i, left-2, method)\n    # Sort everything to the right of the pivot.\n    quickSort(A, left, j, method)",
            "metadata":{
                "trusted":true
            },
            "execution_count":20,
            "outputs":[
                
            ]
        },
        {
            "cell_type":"code",
            "source":"# Here's a test array (see https://www.youtube.com/watch?v=lyZQPjUT5B4)\nA = [3,0,1,8,7,2,5,4,6,9]",
            "metadata":{
                "trusted":true
            },
            "execution_count":23,
            "outputs":[
                
            ]
        },
        {
            "cell_type":"code",
            "source":"# Run quickSort on A\n\nresetCounts()\nprint(\"starting:\")\nprint(A)\nprint(\"\")\n\nquickSort(A, 0, len(A)-1, \"c\")\n\nprint(\"sorted:\")\nprint(A)\nreportCounts()",
            "metadata":{
                "trusted":true
            },
            "execution_count":24,
            "outputs":[
                {
                    "name":"stdout",
                    "text":"starting:\n[3, 0, 1, 8, 7, 2, 5, 4, 6, 9]\n\nsorted:\n[0, 1, 2, 3, 4, 5, 6, 7, 8, 9]\n",
                    "output_type":"stream"
                },
                {
                    "execution_count":24,
                    "output_type":"execute_result",
                    "data":{
                        "text/plain":"'9 swaps, 24 compares'"
                    },
                    "metadata":{
                        
                    }
                }
            ]
        },
        {
            "cell_type":"code",
            "source":"",
            "metadata":{
                
            },
            "execution_count":null,
            "outputs":[
                
            ]
        }
    ]
}
