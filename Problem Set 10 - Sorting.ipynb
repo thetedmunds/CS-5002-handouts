{
    "metadata":{
        "orig_nbformat":4,
        "kernelspec":{
            "name":"python3",
            "display_name":"Python 3 (ipykernel)",
            "language":"python"
        },
        "language_info":{
            "name":"python",
            "version":"3.7.10",
            "mimetype":"text/x-python",
            "codemirror_mode":{
                "name":"ipython",
                "version":3
            },
            "pygments_lexer":"ipython3",
            "nbconvert_exporter":"python",
            "file_extension":".py"
        }
    },
    "nbformat_minor":4,
    "nbformat":4,
    "cells":[
        {
            "cell_type":"code",
            "source":"# To enable cost analysis of our sorting, we will have global counters\n# for the number of swap operations performed, and the number of\n# comparisons performed.\n#\n# Call resetCounts() before performing a sort\ndef resetCounts():\n    global swapCount\n    swapCount = 0\n    global compareCount\n    compareCount = 0\n    \n# Call reportCounts() after performing a sort to see what the cost was    \ndef reportCounts():\n    global swapCount\n    global compareCount\n    return str(swapCount) + \" swaps, \"+ str(compareCount) + \" compares\"\n\n# This function swaps the two items at locations i and j in array A.\n# (it also logs the usage for later reporting)\ndef swap(A, i, j):\n    # Uncomment to see details of swaps:\n    #print(\"swapping \" + str(A[i]) + \" with \" + str(A[j]))\n    temp = A[i]\n    A[i] = A[j]\n    A[j] = temp\n    global swapCount\n    swapCount += 1\n\n# This function compares the two items at locations i and j in array A.\n# It returns true if A[i] is greater than A[j] (the items must be\n# comparable with the > operator).\n# (The function also logs the usage for later reporting)\ndef compare(A, i, j):\n    # Uncomment to see details of comparisons:\n    #print(\"comparing \" + str(A[i]) + \" with \" + str(A[j]))\n    global compareCount\n    compareCount += 1\n    return A[i] > A[j]",
            "metadata":{
                "trusted":true
            },
            "execution_count":2,
            "outputs":[
                
            ]
        },
        {
            "cell_type":"code",
            "source":"# Sort the first n items in array A using bubble sort\ndef bubbleSort(A, n):\n    # If there are fewer than 2 items to sort, then the items are\n    # de-facto sorted\n    if n < 2: return\n\n    # Starting at the \"bottom\" of the array (index 0)\n    # we will compare each item with the item \"above\" it,\n    # and swap them if necessary so that the larger item ends\n    # up on top.\n    # We will repeat up until the largest item has bubbled up to the top\n    for i in range(0, n-1):\n        if compare(A, i, i+1): swap(A, i, i+1)\n    \n    # The largest item is now at the top, and only the bottom n-1 items\n    # need to be sorted.\n    # Print out the intermediate result\n    print(A)\n    # Recursively sort the bottom n-1 items.\n    bubbleSort(A, n-1)\n",
            "metadata":{
                "trusted":true
            },
            "execution_count":3,
            "outputs":[
                
            ]
        },
        {
            "cell_type":"code",
            "source":"# Here's a test array (see https://www.youtube.com/watch?v=lyZQPjUT5B4)\nA = [3,0,1,8,7,2,5,4,6,9]",
            "metadata":{
                "trusted":true
            },
            "execution_count":4,
            "outputs":[
                
            ]
        },
        {
            "cell_type":"code",
            "source":"# Run bubbleSort on A\n\nresetCounts()\nprint(\"starting:\")\nprint(A)\nprint(\"\")\n\nbubbleSort(A, len(A))\n\nprint(\"sorted:\")\nprint(A)\nreportCounts()",
            "metadata":{
                "trusted":true
            },
            "execution_count":5,
            "outputs":[
                {
                    "name":"stdout",
                    "text":"starting:\n[3, 0, 1, 8, 7, 2, 5, 4, 6, 9]\n\n[0, 1, 3, 7, 2, 5, 4, 6, 8, 9]\n[0, 1, 3, 2, 5, 4, 6, 7, 8, 9]\n[0, 1, 2, 3, 4, 5, 6, 7, 8, 9]\n[0, 1, 2, 3, 4, 5, 6, 7, 8, 9]\n[0, 1, 2, 3, 4, 5, 6, 7, 8, 9]\n[0, 1, 2, 3, 4, 5, 6, 7, 8, 9]\n[0, 1, 2, 3, 4, 5, 6, 7, 8, 9]\n[0, 1, 2, 3, 4, 5, 6, 7, 8, 9]\n[0, 1, 2, 3, 4, 5, 6, 7, 8, 9]\nsorted:\n[0, 1, 2, 3, 4, 5, 6, 7, 8, 9]\n",
                    "output_type":"stream"
                },
                {
                    "execution_count":5,
                    "output_type":"execute_result",
                    "data":{
                        "text/plain":"'13 swaps, 45 compares'"
                    },
                    "metadata":{
                        
                    }
                }
            ]
        },
        {
            "cell_type":"code",
            "source":"",
            "metadata":{
                
            },
            "execution_count":null,
            "outputs":[
                
            ]
        }
    ]
}
