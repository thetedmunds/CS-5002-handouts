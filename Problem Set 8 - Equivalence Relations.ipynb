{
 "cells": [
  {
   "cell_type": "code",
   "execution_count": 1,
   "metadata": {},
   "outputs": [],
   "source": [
    "# This block of code takes two inputs: a relation R\n",
    "# and a positive integer n.  The output is an n by n\n",
    "# matrix M, where the M[x][y] entry (namely the entry\n",
    "# in row x and column y) is equal to 1 if x and y are\n",
    "# \"related\".  Otherwise the output is 0.\n",
    "#\n",
    "# Don't forget that in Python the rows and columns\n",
    "# are numbered from 0 to n-1, instead of from 1 to n.\n",
    "\n",
    "def BuildMatrix(R, n):\n",
    "    M = [[0 for y in range(n)] for x in range(n)]\n",
    "    for x in range(n):\n",
    "        for y in range(n):\n",
    "            M[x][y]=R(x,y)\n",
    "    return M"
   ]
  },
  {
   "cell_type": "code",
   "execution_count": 2,
   "metadata": {},
   "outputs": [],
   "source": [
    "# You will define eight different relations, for each\n",
    "# of the 8 = 2x2x2 possible options for R: whether R is\n",
    "# reflexive, whether R is symmetric, and whether R is\n",
    "# transitive.  I have provided 2 of the 8 relations below.\n",
    "\n",
    "# R1 is reflexive, symmetric, transitive\n",
    "def R1(x,y):\n",
    "    if (x-y) % 2 == 0: return 1\n",
    "    else: return 0\n",
    "    \n",
    "# R2 is reflexive, symmetric, not transitive\n",
    "def R2(x,y):\n",
    "    if abs(x-y) <= 1: return 1\n",
    "    else: return 0\n",
    "    \n",
    "# R3 is reflexive, not symmetric, transitive\n",
    "    \n",
    "# R4 is reflexive, not symmetric, not transitive\n",
    "\n",
    "# R5 is not reflexive, symmetric, transitive\n",
    "\n",
    "# R6 is not reflexive, symmetric, not transitive\n",
    "\n",
    "# R7 is not reflexive, not symmetric, transitive\n",
    "\n",
    "# R8 is not reflexive, not symmetric, not transitive\n",
    "    "
   ]
  },
  {
   "cell_type": "code",
   "execution_count": 3,
   "metadata": {},
   "outputs": [
    {
     "data": {
      "text/plain": [
       "[[1, 0, 1, 0, 1, 0, 1, 0, 1, 0],\n",
       " [0, 1, 0, 1, 0, 1, 0, 1, 0, 1],\n",
       " [1, 0, 1, 0, 1, 0, 1, 0, 1, 0],\n",
       " [0, 1, 0, 1, 0, 1, 0, 1, 0, 1],\n",
       " [1, 0, 1, 0, 1, 0, 1, 0, 1, 0],\n",
       " [0, 1, 0, 1, 0, 1, 0, 1, 0, 1],\n",
       " [1, 0, 1, 0, 1, 0, 1, 0, 1, 0],\n",
       " [0, 1, 0, 1, 0, 1, 0, 1, 0, 1],\n",
       " [1, 0, 1, 0, 1, 0, 1, 0, 1, 0],\n",
       " [0, 1, 0, 1, 0, 1, 0, 1, 0, 1]]"
      ]
     },
     "execution_count": 3,
     "metadata": {},
     "output_type": "execute_result"
    }
   ],
   "source": [
    "# Here is the matrix for the relation R1 with n=10.\n",
    "\n",
    "BuildMatrix(R1, 10)"
   ]
  },
  {
   "cell_type": "code",
   "execution_count": 4,
   "metadata": {},
   "outputs": [
    {
     "data": {
      "text/plain": [
       "[[1, 1, 0, 0, 0, 0, 0, 0, 0, 0],\n",
       " [1, 1, 1, 0, 0, 0, 0, 0, 0, 0],\n",
       " [0, 1, 1, 1, 0, 0, 0, 0, 0, 0],\n",
       " [0, 0, 1, 1, 1, 0, 0, 0, 0, 0],\n",
       " [0, 0, 0, 1, 1, 1, 0, 0, 0, 0],\n",
       " [0, 0, 0, 0, 1, 1, 1, 0, 0, 0],\n",
       " [0, 0, 0, 0, 0, 1, 1, 1, 0, 0],\n",
       " [0, 0, 0, 0, 0, 0, 1, 1, 1, 0],\n",
       " [0, 0, 0, 0, 0, 0, 0, 1, 1, 1],\n",
       " [0, 0, 0, 0, 0, 0, 0, 0, 1, 1]]"
      ]
     },
     "execution_count": 4,
     "metadata": {},
     "output_type": "execute_result"
    }
   ],
   "source": [
    "# Here is the matrix for the relation R2 with n=10.\n",
    "\n",
    "BuildMatrix(R2, 10)"
   ]
  },
  {
   "cell_type": "code",
   "execution_count": 5,
   "metadata": {},
   "outputs": [],
   "source": [
    "# Complete the EquivalenceTest function to determine whether",
    "# relation R is reflexive, symmetric, and transitive.",
    "# If R is an equivalence relation (i.e., it is reflexive,",
    "# symmetric, and transitive), then output the total number",
    "# of equivalence classes.",
    "",
    "def EquivalenceTest(R, n):",
    "    M = BuildMatrix(R,n)",
    "    print(\"I am not yet testing for reflexivity.\")",
    "    print(\"I am not yet testing for symmetry.\")",
    "    print(\"I am not yet testing for transitivity.\")",
    "    print(\"I am not yet testing for equivalence, or counting equivalence classes.\")"
   ]
  },
  {
   "cell_type":"code",
   "execution_count": 6,
   "metadata": {},
   "outputs": [
    {
     "name":"stdout",
     "text": [
      "I am not yet testing for reflexivity.\n",
      "I am not yet testing for symmetry.\n",
      "I am not yet testing for transitivity.\n",
      "I am not yet testing for equivalence, or counting equivalence classes.\n",
     "output_type":"stream"
    }
   ],
   "source": [
    "# Here is the equivalence test for R1 with n=10",
    "",
    "EquivalenceTest(R1, 10)",
    ]
  },
  {
   "cell_type": "code",
   "execution_count": null,
   "metadata": {},
   "outputs": [],
   "source": []
  }
 ],
 "metadata": {
  "kernelspec": {
   "display_name": "Python 3",
   "language": "python",
   "name": "python3"
  },
  "language_info": {
   "codemirror_mode": {
    "name": "ipython",
    "version": 3
   },
   "file_extension": ".py",
   "mimetype": "text/x-python",
   "name": "python",
   "nbconvert_exporter": "python",
   "pygments_lexer": "ipython3",
   "version": "3.7.3"
  }
 },
 "nbformat": 4,
 "nbformat_minor": 2
}
